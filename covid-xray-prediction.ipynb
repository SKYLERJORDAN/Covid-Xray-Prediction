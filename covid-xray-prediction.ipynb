{
 "cells": [
  {
   "cell_type": "code",
   "execution_count": 1,
   "id": "abec08bb",
   "metadata": {
    "_cell_guid": "b1076dfc-b9ad-4769-8c92-a6c4dae69d19",
    "_uuid": "8f2839f25d086af736a60e9eeb907d3b93b6e0e5",
    "execution": {
     "iopub.execute_input": "2025-04-02T23:03:35.862237Z",
     "iopub.status.busy": "2025-04-02T23:03:35.861733Z",
     "iopub.status.idle": "2025-04-02T23:03:46.598479Z",
     "shell.execute_reply": "2025-04-02T23:03:46.596953Z"
    },
    "papermill": {
     "duration": 10.744357,
     "end_time": "2025-04-02T23:03:46.600865",
     "exception": false,
     "start_time": "2025-04-02T23:03:35.856508",
     "status": "completed"
    },
    "tags": []
   },
   "outputs": [],
   "source": [
    "import torch\n",
    "import torch.nn as nn\n",
    "import torch.optim as optim\n",
    "import torch.nn.functional as F\n",
    "import torchvision.transforms as transforms\n",
    "from torchvision.datasets import ImageFolder\n"
   ]
  },
  {
   "cell_type": "code",
   "execution_count": 2,
   "id": "32260dce",
   "metadata": {
    "execution": {
     "iopub.execute_input": "2025-04-02T23:03:46.609394Z",
     "iopub.status.busy": "2025-04-02T23:03:46.608718Z",
     "iopub.status.idle": "2025-04-02T23:03:46.615115Z",
     "shell.execute_reply": "2025-04-02T23:03:46.613729Z"
    },
    "papermill": {
     "duration": 0.012876,
     "end_time": "2025-04-02T23:03:46.617427",
     "exception": false,
     "start_time": "2025-04-02T23:03:46.604551",
     "status": "completed"
    },
    "tags": []
   },
   "outputs": [],
   "source": [
    "transform = transforms.Compose([\n",
    "    transforms.Resize((256, 256)), \n",
    "    transforms.ToTensor(),\n",
    "    transforms.Normalize((0.5,), (0.5,))  \n",
    "])"
   ]
  },
  {
   "cell_type": "code",
   "execution_count": 3,
   "id": "736e06e2",
   "metadata": {
    "execution": {
     "iopub.execute_input": "2025-04-02T23:03:46.625391Z",
     "iopub.status.busy": "2025-04-02T23:03:46.624907Z",
     "iopub.status.idle": "2025-04-02T23:03:46.952765Z",
     "shell.execute_reply": "2025-04-02T23:03:46.951409Z"
    },
    "papermill": {
     "duration": 0.334379,
     "end_time": "2025-04-02T23:03:46.955103",
     "exception": false,
     "start_time": "2025-04-02T23:03:46.620724",
     "status": "completed"
    },
    "tags": []
   },
   "outputs": [],
   "source": [
    "train_path = \"xray_dataset_covid19/train\"\n",
    "test_path = \"xray_dataset_covid19/test\"\n",
    "\n",
    "trainset = ImageFolder(root=train_path, transform=transform)\n",
    "testset = ImageFolder(root=test_path, transform=transform)\n",
    "\n",
    "trainloader = torch.utils.data.DataLoader(trainset, batch_size=32, shuffle=True)\n",
    "testloader = torch.utils.data.DataLoader(testset, batch_size=32, shuffle=False)"
   ]
  },
  {
   "cell_type": "code",
   "execution_count": 4,
   "id": "d1a75f39",
   "metadata": {
    "execution": {
     "iopub.execute_input": "2025-04-02T23:03:46.962909Z",
     "iopub.status.busy": "2025-04-02T23:03:46.962471Z",
     "iopub.status.idle": "2025-04-02T23:03:47.145960Z",
     "shell.execute_reply": "2025-04-02T23:03:47.144718Z"
    },
    "papermill": {
     "duration": 0.189818,
     "end_time": "2025-04-02T23:03:47.148172",
     "exception": false,
     "start_time": "2025-04-02T23:03:46.958354",
     "status": "completed"
    },
    "tags": []
   },
   "outputs": [
    {
     "name": "stdout",
     "output_type": "stream",
     "text": [
      "Image shape: torch.Size([3, 256, 256])\n"
     ]
    }
   ],
   "source": [
    "image, label = trainset[0]  \n",
    "print(\"Image shape:\", image.shape) "
   ]
  },
  {
   "cell_type": "code",
   "execution_count": 5,
   "id": "1acf82f6",
   "metadata": {
    "execution": {
     "iopub.execute_input": "2025-04-02T23:03:47.158233Z",
     "iopub.status.busy": "2025-04-02T23:03:47.157736Z",
     "iopub.status.idle": "2025-04-02T23:03:47.542874Z",
     "shell.execute_reply": "2025-04-02T23:03:47.541535Z"
    },
    "papermill": {
     "duration": 0.393282,
     "end_time": "2025-04-02T23:03:47.545574",
     "exception": false,
     "start_time": "2025-04-02T23:03:47.152292",
     "status": "completed"
    },
    "tags": []
   },
   "outputs": [],
   "source": [
    "class cnn(nn.Module):\n",
    "    def __init__(self):\n",
    "        super(cnn, self).__init__()\n",
    "        self.conv1 = nn.Conv2d(3, 32, kernel_size=3, stride=1, padding=1)\n",
    "        self.pool1 = nn.MaxPool2d(2, 2)\n",
    "        \n",
    "        self.conv2 = nn.Conv2d(32, 64, kernel_size=3, stride=1, padding=1)\n",
    "        self.pool2 = nn.MaxPool2d(2, 2)\n",
    "\n",
    "        self.conv3 = nn.Conv2d(64, 128, kernel_size=3, stride=1, padding=1)\n",
    "        self.pool3 = nn.MaxPool2d(2, 2)\n",
    "\n",
    "        self.conv4 = nn.Conv2d(128, 256, kernel_size=3, stride=1, padding=1)\n",
    "        self.pool4 = nn.MaxPool2d(2, 2) \n",
    " \n",
    "        self.fc1 = nn.Linear(256 * 16 * 16, 512) \n",
    "        self.fc2 = nn.Linear(512, 10)  \n",
    "\n",
    "    def forward(self, x):\n",
    "        x = self.pool1(F.relu(self.conv1(x)))\n",
    "        x = self.pool2(F.relu(self.conv2(x)))\n",
    "        x = self.pool3(F.relu(self.conv3(x)))\n",
    "        x = self.pool4(F.relu(self.conv4(x)))\n",
    "        \n",
    "        x = x.view(x.size(0), -1)\n",
    "        x = F.relu(self.fc1(x))\n",
    "        x = self.fc2(x)\n",
    "        return x\n",
    "\n",
    "model = cnn()"
   ]
  },
  {
   "cell_type": "code",
   "execution_count": 6,
   "id": "05a2f36b",
   "metadata": {
    "execution": {
     "iopub.execute_input": "2025-04-02T23:03:47.557347Z",
     "iopub.status.busy": "2025-04-02T23:03:47.556991Z",
     "iopub.status.idle": "2025-04-02T23:03:47.562246Z",
     "shell.execute_reply": "2025-04-02T23:03:47.561069Z"
    },
    "papermill": {
     "duration": 0.013146,
     "end_time": "2025-04-02T23:03:47.563995",
     "exception": false,
     "start_time": "2025-04-02T23:03:47.550849",
     "status": "completed"
    },
    "tags": []
   },
   "outputs": [],
   "source": [
    "criterion = nn.CrossEntropyLoss()\n",
    "optimizer = optim.Adam(model.parameters(), lr=0.001)"
   ]
  },
  {
   "cell_type": "code",
   "execution_count": 7,
   "id": "4d58f541",
   "metadata": {
    "execution": {
     "iopub.execute_input": "2025-04-02T23:03:47.570957Z",
     "iopub.status.busy": "2025-04-02T23:03:47.570583Z",
     "iopub.status.idle": "2025-04-02T23:04:56.842136Z",
     "shell.execute_reply": "2025-04-02T23:04:56.840640Z"
    },
    "papermill": {
     "duration": 69.281009,
     "end_time": "2025-04-02T23:04:56.848028",
     "exception": false,
     "start_time": "2025-04-02T23:03:47.567019",
     "status": "completed"
    },
    "tags": []
   },
   "outputs": [
    {
     "name": "stdout",
     "output_type": "stream",
     "text": [
      "Epoch [1/8], Loss: 1.1632, Accuracy: 54.73%\n",
      "Epoch [2/8], Loss: 0.3136, Accuracy: 83.78%\n",
      "Epoch [3/8], Loss: 0.2540, Accuracy: 91.89%\n",
      "Epoch [4/8], Loss: 0.2094, Accuracy: 94.59%\n",
      "Epoch [5/8], Loss: 0.1705, Accuracy: 93.92%\n",
      "Epoch [6/8], Loss: 0.1189, Accuracy: 95.27%\n",
      "Epoch [7/8], Loss: 0.0973, Accuracy: 96.62%\n",
      "Epoch [8/8], Loss: 0.0721, Accuracy: 96.62%\n"
     ]
    }
   ],
   "source": [
    "num_epochs = 8\n",
    "for epoch in range(num_epochs):\n",
    "    model.train()\n",
    "    running_loss = 0.0\n",
    "    correct = 0\n",
    "    total = 0\n",
    "    \n",
    "    for images, labels in trainloader:\n",
    "        optimizer.zero_grad()\n",
    "        \n",
    "        outputs = model(images)\n",
    "        loss = criterion(outputs, labels)\n",
    "        \n",
    "        loss.backward()\n",
    "        optimizer.step()\n",
    "        \n",
    "        _, predicted = torch.max(outputs.data, 1)\n",
    "        total += labels.size(0)\n",
    "        correct += (predicted == labels).sum().item()\n",
    "        \n",
    "        running_loss += loss.item()\n",
    "    \n",
    "    epoch_loss = running_loss/len(trainloader)\n",
    "    epoch_acc = 100 * correct / total\n",
    "    \n",
    "    print(f'Epoch [{epoch+1}/{num_epochs}], Loss: {epoch_loss:.4f}, Accuracy: {epoch_acc:.2f}%')"
   ]
  },
  {
   "cell_type": "code",
   "execution_count": 8,
   "id": "ca2f3616",
   "metadata": {
    "execution": {
     "iopub.execute_input": "2025-04-02T23:04:56.857255Z",
     "iopub.status.busy": "2025-04-02T23:04:56.856780Z",
     "iopub.status.idle": "2025-04-02T23:05:16.302271Z",
     "shell.execute_reply": "2025-04-02T23:05:16.300556Z"
    },
    "papermill": {
     "duration": 19.452835,
     "end_time": "2025-04-02T23:05:16.304625",
     "exception": false,
     "start_time": "2025-04-02T23:04:56.851790",
     "status": "completed"
    },
    "tags": []
   },
   "outputs": [
    {
     "name": "stdout",
     "output_type": "stream",
     "text": [
      "Test Accuracy: 0.9750\n",
      "Precision: 0.9762\n",
      "Recall: 0.9750\n",
      "F1 Score: 0.9750\n"
     ]
    }
   ],
   "source": [
    "from sklearn.metrics import accuracy_score, precision_recall_fscore_support, confusion_matrix\n",
    "\n",
    "all_preds = []\n",
    "all_labels = []\n",
    "\n",
    "with torch.no_grad():\n",
    "    for inputs, labels in testloader:\n",
    "        \n",
    "        outputs = model(inputs)\n",
    "        _, predicted = torch.max(outputs, 1)\n",
    "        \n",
    "        all_preds.extend(predicted.cpu().numpy())\n",
    "        all_labels.extend(labels.cpu().numpy())\n",
    "\n",
    "accuracy = accuracy_score(all_labels, all_preds)\n",
    "precision, recall, f1, _ = precision_recall_fscore_support(all_labels, all_preds, average='weighted')\n",
    "conf_matrix = confusion_matrix(all_labels, all_preds)\n",
    "\n",
    "print(f\"Test Accuracy: {accuracy:.4f}\")\n",
    "print(f\"Precision: {precision:.4f}\")\n",
    "print(f\"Recall: {recall:.4f}\")\n",
    "print(f\"F1 Score: {f1:.4f}\")"
   ]
  }
 ],
 "metadata": {
  "kaggle": {
   "accelerator": "none",
   "dataSources": [
    {
     "datasetId": 561588,
     "sourceId": 1020806,
     "sourceType": "datasetVersion"
    }
   ],
   "dockerImageVersionId": 30918,
   "isGpuEnabled": false,
   "isInternetEnabled": true,
   "language": "python",
   "sourceType": "notebook"
  },
  "kernelspec": {
   "display_name": "Python 3 (ipykernel)",
   "language": "python",
   "name": "python3"
  },
  "language_info": {
   "codemirror_mode": {
    "name": "ipython",
    "version": 3
   },
   "file_extension": ".py",
   "mimetype": "text/x-python",
   "name": "python",
   "nbconvert_exporter": "python",
   "pygments_lexer": "ipython3",
   "version": "3.11.5"
  },
  "papermill": {
   "default_parameters": {},
   "duration": 106.672523,
   "end_time": "2025-04-02T23:05:19.485589",
   "environment_variables": {},
   "exception": null,
   "input_path": "__notebook__.ipynb",
   "output_path": "__notebook__.ipynb",
   "parameters": {},
   "start_time": "2025-04-02T23:03:32.813066",
   "version": "2.6.0"
  }
 },
 "nbformat": 4,
 "nbformat_minor": 5
}
